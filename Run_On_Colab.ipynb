{
  "nbformat": 4,
  "nbformat_minor": 0,
  "metadata": {
    "colab": {
      "provenance": [],
      "gpuType": "T4"
    },
    "kernelspec": {
      "name": "python3",
      "display_name": "Python 3"
    },
    "language_info": {
      "name": "python"
    },
    "accelerator": "GPU"
  },
  "cells": [
    {
      "cell_type": "code",
      "execution_count": null,
      "metadata": {
        "cellView": "form",
        "id": "0FJI6bzmqVuw"
      },
      "outputs": [],
      "source": [
        "#@title Install\n",
        "%cd /content/\n",
        "!git clone https://github.com/NeuralFalconYT/Video-Dubbing.git\n",
        "%cd ./Video-Dubbing/\n",
        "!pip install -qq -r requirements.txt\n",
        "from IPython.display import clear_output\n",
        "clear_output()\n",
        "import time\n",
        "time.sleep(5)\n",
        "import os\n",
        "os.kill(os.getpid(), 9)\n"
      ]
    },
    {
      "cell_type": "code",
      "source": [
        "%cd /content/Video-Dubbing/\n",
        "!python app.py --share --debug"
      ],
      "metadata": {
        "id": "PkuzvhxdqXba"
      },
      "execution_count": null,
      "outputs": []
    }
  ]
}