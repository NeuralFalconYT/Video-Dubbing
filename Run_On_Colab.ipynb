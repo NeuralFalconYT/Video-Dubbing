{
  "cells": [
    {
      "cell_type": "code",
      "execution_count": null,
      "metadata": {
        "cellView": "form",
        "id": "0FJI6bzmqVuw"
      },
      "outputs": [],
      "source": [
        "#@title Install\n",
        "%cd /content/\n",
        "!git clone https://github.com/NeuralFalconYT/Video-Dubbing.git\n",
        "%cd ./Video-Dubbing/\n",
        "!pip install -qq -r requirements.txt\n",
        "!pip install audio-separator==0.39.0\n",
        "from IPython.display import clear_output\n",
        "clear_output()\n",
        "import time\n",
        "time.sleep(5)\n",
        "import os\n",
        "os.kill(os.getpid(), 9)"
      ]
    },
    {
      "cell_type": "code",
      "execution_count": null,
      "metadata": {
        "id": "PkuzvhxdqXba"
      },
      "outputs": [],
      "source": [
        "%cd /content/Video-Dubbing/\n",
        "!python app.py --share --debug"
      ]
    }
  ],
  "metadata": {
    "accelerator": "GPU",
    "colab": {
      "gpuType": "T4",
      "provenance": []
    },
    "kernelspec": {
      "display_name": "Python 3",
      "name": "python3"
    },
    "language_info": {
      "name": "python"
    }
  },
  "nbformat": 4,
  "nbformat_minor": 0
}
