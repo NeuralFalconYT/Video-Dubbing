{
  "nbformat": 4,
  "nbformat_minor": 0,
  "metadata": {
    "colab": {
      "private_outputs": true,
      "provenance": [],
      "gpuType": "T4"
    },
    "kernelspec": {
      "name": "python3",
      "display_name": "Python 3"
    },
    "language_info": {
      "name": "python"
    },
    "accelerator": "GPU"
  },
  "cells": [
    {
      "cell_type": "code",
      "execution_count": null,
      "metadata": {
        "cellView": "form",
        "id": "ySivstq9Ad_L"
      },
      "outputs": [],
      "source": [
        "#@title Whisper Speaker Diarization\n",
        "%cd /content/\n",
        "!git clone https://github.com/NeuralFalconYT/Video-Dubbing.git\n",
        "%cd ./Video-Dubbing/STT\n",
        "!pip install -r requirements.txt\n",
        "from IPython.display import clear_output\n",
        "clear_output()"
      ]
    },
    {
      "cell_type": "code",
      "source": [
        "%cd /content/Video-Dubbing/STT\n",
        "!python app.py --share --debug"
      ],
      "metadata": {
        "id": "Ojn7GnosA3oE"
      },
      "execution_count": null,
      "outputs": []
    }
  ]
}